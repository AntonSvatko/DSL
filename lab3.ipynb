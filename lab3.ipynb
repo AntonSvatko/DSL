{
  "nbformat": 4,
  "nbformat_minor": 0,
  "metadata": {
    "colab": {
      "name": "Untitled2.ipynb",
      "provenance": [],
      "authorship_tag": "ABX9TyNiL1xMoNc3irN68Cvr9wUK",
      "include_colab_link": true
    },
    "kernelspec": {
      "name": "python3",
      "display_name": "Python 3"
    },
    "language_info": {
      "name": "python"
    }
  },
  "cells": [
    {
      "cell_type": "markdown",
      "metadata": {
        "id": "view-in-github",
        "colab_type": "text"
      },
      "source": [
        "<a href=\"https://colab.research.google.com/github/AntonSvatko/DSL/blob/main/lab3.ipynb\" target=\"_parent\"><img src=\"https://colab.research.google.com/assets/colab-badge.svg\" alt=\"Open In Colab\"/></a>"
      ]
    },
    {
      "cell_type": "code",
      "metadata": {
        "id": "hojVZA33pw87"
      },
      "source": [
        "#рекурсивная функция, добавляем в result если нетерминал\n",
        "# first - множество терминальных символов, которыми начинаются цепочки\n",
        "def first(toks, vars, hvar):\n",
        "  resultFirst = set()\n",
        "  for rule in vars[hvar]:\n",
        "    if rule[0] in toks:\n",
        "      resultFirst.add(rule[0])\n",
        "    else:\n",
        "     resultFirst =  resultFirst.union(first(toks, vars, rule[0]))\n",
        "  return resultFirst\n",
        "# find product \n",
        "def usefullProduct(vars, hvar):\n",
        "  useful = []\n",
        "  for t, production in vars.items():\n",
        "    for rule in production:\n",
        "      if hvar in rule:\n",
        "        useful.append((t, rule))\n",
        "  return useful  "
      ],
      "execution_count": null,
      "outputs": []
    },
    {
      "cell_type": "markdown",
      "metadata": {
        "id": "d80qO2RVz1Mj"
      },
      "source": [
        "follow - множество терминальных символов,которые следуют за цепочками\n"
      ]
    },
    {
      "cell_type": "code",
      "metadata": {
        "colab": {
          "base_uri": "https://localhost:8080/"
        },
        "id": "y6KfZHpbz1lE",
        "outputId": "8b9ea226-cfcb-4fc0-9d42-02f50fcd58c0"
      },
      "source": [
        "def follow(toks, vars, hvar):\n",
        "  useful = usefullProduct(vars, hvar)\n",
        "  resultFirst = set()\n",
        "\n",
        "  for p in useful:\n",
        "    left, right = p\n",
        "    i = right.index(hvar)\n",
        "    if i + 1 < len(right):\n",
        "      next_symbol = right[i + 1]\n",
        "      if next_symbol in toks:\n",
        "        resultFirst.add(next_symbol)\n",
        "      else:\n",
        "        resultFirst = resultFirst.union(first(toks, vars, next_symbol))\n",
        "    else:\n",
        "      if left != hvar:\n",
        "        resultFirst = resultFirst.union(follow(toks, vars, left))\n",
        "  return resultFirst\n",
        "\n",
        "grammar = {\n",
        "    'toks': {(0, ''), (1, 'a'), (2, 'b'), (3, 'c'), (4, 'd'), (5, 'e'), (6, 'f'), (7, 'g')},\n",
        "    'vars': {\n",
        "        'F': [[(0, '') ,'L', 'P', (6, 'f')]],\n",
        "        'L': [[(2, 'b'), 'T']], \n",
        "        'T': [[(1, 'a'), 'T']],\n",
        "        'P': [['E', 'D']],\n",
        "        'E': [[(5, 'e')], [(7, 'g')], [(1, 'a')]],\n",
        "        'D': [[(4, 'd')], [(7, 'g')]],\n",
        "    },\n",
        "    'hvar': 'L'\n",
        "}\n",
        "\n",
        "print('First:', first(grammar['toks'], grammar['vars'], grammar['hvar']))\n",
        "print('Follow:', follow(grammar['toks'], grammar['vars'], grammar['hvar']))"
      ],
      "execution_count": 31,
      "outputs": [
        {
          "output_type": "stream",
          "name": "stdout",
          "text": [
            "First: {(2, 'b')}\n",
            "Follow: {(7, 'g'), (5, 'e'), (1, 'a')}\n"
          ]
        }
      ]
    }
  ]
}