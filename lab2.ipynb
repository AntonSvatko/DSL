{
  "nbformat": 4,
  "nbformat_minor": 0,
  "metadata": {
    "colab": {
      "name": "Untitled1.ipynb",
      "provenance": [],
      "authorship_tag": "ABX9TyNqEEUPl4BVl2J1Ol3Web9P",
      "include_colab_link": true
    },
    "kernelspec": {
      "name": "python3",
      "display_name": "Python 3"
    },
    "language_info": {
      "name": "python"
    }
  },
  "cells": [
    {
      "cell_type": "markdown",
      "metadata": {
        "id": "view-in-github",
        "colab_type": "text"
      },
      "source": [
        "<a href=\"https://colab.research.google.com/github/AntonSvatko/DSL/blob/main/lab2.ipynb\" target=\"_parent\"><img src=\"https://colab.research.google.com/assets/colab-badge.svg\" alt=\"Open In Colab\"/></a>"
      ]
    },
    {
      "cell_type": "code",
      "metadata": {
        "colab": {
          "base_uri": "https://localhost:8080/"
        },
        "id": "ASn1e1zVijAl",
        "outputId": "8a4b29e1-0b13-4408-be42-0607810e2810"
      },
      "source": [
        "import copy\n",
        "\n",
        "'''\n",
        "находим полезные символы\n",
        "\n",
        "Непродуктивным называют нетерминал, из которого нельзя получить цепочку терминалов.\n",
        "Для поиска в множестве правил непродуктивных нетерминалов используется следующее свойство.\n",
        "\n",
        "Если все символы правой части правила продуктивны, то продуктивен и символ, стоящий в его левой части.\n",
        "\n",
        "\n",
        "'''\n",
        "def productive_symbols(GRAMMAR):\n",
        "  productive = set()\n",
        "  size_productive = None\n",
        "\n",
        "  #Убераем ненужные непродуктивные нетерминалы\n",
        "  def clear_unproductive_symbols(rule: str):\n",
        "    return all(map(lambda x: x in productive or x in GRAMMAR['toks'], rule))\n",
        "\n",
        "  while len(productive) != size_productive:\n",
        "    size_productive = len(productive)\n",
        "    productive_s = [var for var, _def in GRAMMAR['vars'].items()\n",
        "     if list(filter(clear_unproductive_symbols, _def)) != []]\n",
        "    productive = productive.union(set(productive_s))\n",
        "\n",
        "  return productive\n",
        "\n",
        "\n",
        "#Находим все подхотящие нетерминалы\n",
        "def usefull_symbols(GRAMMAR):\n",
        "  usefull = {GRAMMAR['hvar']}\n",
        "  size_productive = None\n",
        "\n",
        "  while len(usefull) != size_productive:\n",
        "    size_productive = len(usefull)\n",
        "    for var, _def in GRAMMAR['vars'].items():\n",
        "      if var in usefull:\n",
        "        for rule in _def:\n",
        "          usefull = usefull.union(set(filter(lambda s: s not in GRAMMAR['toks'], rule)))\n",
        "\n",
        "  return usefull\n",
        "\n",
        "\n",
        "#Удаляем бесполезные символы\n",
        "def clear_useless_symbols(GRAMMAR):\n",
        "  new_grammer = deepcopy(GRAMMAR)\n",
        "\n",
        "  productive = productive_symbols(GRAMMAR)\n",
        "  new_grammer['vars'] = {\n",
        "      var: [rule for rule in _def \n",
        "            if all(map(lambda x: x in productive or x in GRAMMAR['toks'], rule))] \n",
        "                          for var, _def in new_grammer['vars'].items()\n",
        "                          }\n",
        "  \n",
        "  usefull = usefull_symbols(new_grammer)\n",
        "  new_grammer['vars'] = {\n",
        "      var: [rule for rule in _def \n",
        "            if all(map(lambda x: x in usefull or x in GRAMMAR['toks'], rule))] \n",
        "                         for var, _def in new_grammer['vars'].items() if var in usefull\n",
        "                         }\n",
        "  \n",
        "  return new_grammer\n",
        "\n",
        "\n",
        "\n",
        "GRAMMAR = {\n",
        "      'toks': {(0, ''), (1, 'a'), (2, 'b')},\n",
        "      'vars': {\n",
        "          'F': [[(2, 'b'), 'T'],[(0, '') ,'F'], ['L']], \n",
        "          'L': [[(0, '')], [(1, 'a')],[(2, '')]], \n",
        "          'T': [['T', 'P']],\n",
        "          'P': []\n",
        "          },\n",
        "      'hvar': 'F'\n",
        "  }\n",
        "print(clear_useless_symbols(GRAMMAR))\n",
        "\n",
        "\n",
        "GRAMMAR = clear_useless_symbols(GRAMMAR)"
      ],
      "execution_count": 55,
      "outputs": [
        {
          "output_type": "stream",
          "name": "stdout",
          "text": [
            "{'toks': {(0, ''), (1, 'a'), (2, 'b')}, 'vars': {'F': [[(0, ''), 'F'], ['L']], 'L': [[(0, '')], [(1, 'a')]]}, 'hvar': 'F'}\n"
          ]
        }
      ]
    },
    {
      "cell_type": "markdown",
      "metadata": {
        "id": "JyGflCAff3gN"
      },
      "source": [
        "Записываем те нетерминалы, в правой части которых стоят только терминалы или исчезающие нетерминалы\n",
        "\n"
      ]
    },
    {
      "cell_type": "code",
      "metadata": {
        "colab": {
          "base_uri": "https://localhost:8080/"
        },
        "id": "A6QB3QeVf4iI",
        "outputId": "23a59f0e-250e-454d-f419-ffc6061955e4"
      },
      "source": [
        "def disappear_symbols(GRAMMAR):\n",
        "  size_productive = None\n",
        "  needed = set()\n",
        "  while len(needed) != size_productive:\n",
        "    size_productive = len(needed)\n",
        "    needed_symbols = [var for var, definition in GRAMMAR['vars'].items()]\n",
        "    needed = needed.union(set(needed_symbols))\n",
        "  return needed\n",
        "\n",
        "\n",
        "print('Disappear:', str(disappear_symbols(GRAMMAR)))"
      ],
      "execution_count": 57,
      "outputs": [
        {
          "output_type": "stream",
          "name": "stdout",
          "text": [
            "Disappear: {'L', 'F'}\n"
          ]
        }
      ]
    },
    {
      "cell_type": "markdown",
      "metadata": {
        "id": "fXtd_sz-f_nw"
      },
      "source": [
        "Out:\n",
        "{'toks': {(0, ''), (1, 'a'), (2, 'b')}, 'vars': {'F': [[(0, ''), 'F'], ['L']], 'L': [[(0, '')], [(1, 'a')]]}, 'hvar': 'F'}\n",
        "\n",
        "Disappear: {'L', 'F'}"
      ]
    }
  ]
}