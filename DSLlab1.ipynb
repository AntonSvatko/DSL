{
  "nbformat": 4,
  "nbformat_minor": 0,
  "metadata": {
    "colab": {
      "name": "Untitled0.ipynb",
      "provenance": [],
      "authorship_tag": "ABX9TyO+9K73gUnx1JMVHS82cKWU",
      "include_colab_link": true
    },
    "kernelspec": {
      "name": "python3",
      "display_name": "Python 3"
    },
    "language_info": {
      "name": "python"
    }
  },
  "cells": [
    {
      "cell_type": "markdown",
      "metadata": {
        "id": "view-in-github",
        "colab_type": "text"
      },
      "source": [
        "<a href=\"https://colab.research.google.com/github/AntonSvatko/DSL/blob/main/DSLlab1.ipynb\" target=\"_parent\"><img src=\"https://colab.research.google.com/assets/colab-badge.svg\" alt=\"Open In Colab\"/></a>"
      ]
    },
    {
      "cell_type": "code",
      "metadata": {
        "id": "tIjYfKack3RX"
      },
      "source": [
        "\n",
        "def splitWhiteSpases (text, whitespaces):\n",
        "  splitResult = []\n",
        "  splitWord = \"\" \n",
        "\n",
        "  isWhiteSpace = lambda x: x in whitespaces \n",
        "\n",
        "  for i in text:\n",
        "    if (splitWord == \"\" and isWhiteSpace(i)):\n",
        "      continue\n",
        "    elif (isWhiteSpace(i)): \n",
        "      splitResult.append(splitWord)\n",
        "      splitWord = \"\"\n",
        "    else:\n",
        "      splitWord += i  \n",
        "  splitResult.append(splitWord)\n",
        "  return splitResult"
      ],
      "execution_count": null,
      "outputs": []
    },
    {
      "cell_type": "markdown",
      "metadata": {
        "id": "gTZKc0FOr76V"
      },
      "source": [
        "splitResult - variable into which I write the result\n",
        "\n",
        "splitWord - variable into which I write one world for future result \n",
        "\n",
        "isWhiteSpace - lambda that takes x and checks if it is member of whiteSpaces\n",
        "\n",
        "In a loop below we check if a whitespace is encountered and if splitWorld is empty \n",
        "if yes - we want to continue the loop without adding empty elements\n",
        "if no - we again check if a whitespace is encountered    \n",
        "           if yes - we add splitWorld to the splitResult \n",
        "           if no - we add current character to splitWorld\n",
        "          "
      ]
    },
    {
      "cell_type": "code",
      "metadata": {
        "colab": {
          "base_uri": "https://localhost:8080/"
        },
        "id": "9WYjX2ctr8Wa",
        "outputId": "a42b7ac1-1935-490a-8f81-7480d89267b2"
      },
      "source": [
        "if __name__ == '__main__':  \n",
        "  whitespaces = [' ', '\\n']\n",
        "  text = \"Python Hello world!!! \\n Python\"\n",
        "  print(splitWhiteSpases(text, whitespaces))"
      ],
      "execution_count": null,
      "outputs": [
        {
          "output_type": "stream",
          "name": "stdout",
          "text": [
            "['Python', 'Hello', 'world!!!', 'Python']\n"
          ]
        }
      ]
    },
    {
      "cell_type": "markdown",
      "metadata": {
        "id": "PUh20RbVsfOh"
      },
      "source": [
        "whitespaces - a variable in which we indicate which characters we do not want to take into \n",
        "\n",
        "text - string varible with the text we want to process\n",
        "\n",
        "splitWhiteSpases - function that take whitespaces and text variables and return string without whitespaces symbols"
      ]
    }
  ]
}